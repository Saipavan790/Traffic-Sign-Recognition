{
 "cells": [
  {
   "cell_type": "markdown",
   "id": "5824f096",
   "metadata": {},
   "source": [
    "## Import the packages"
   ]
  },
  {
   "cell_type": "code",
   "execution_count": 1,
   "id": "3193c2ef",
   "metadata": {},
   "outputs": [],
   "source": [
    "import numpy as np\n",
    "import pandas as pd\n",
    "import tensorflow as tf\n",
    "import matplotlib.pyplot as plt\n",
    "from tensorflow.keras.preprocessing.image import load_img\n",
    "import os\n",
    "from sklearn.model_selection import train_test_split\n",
    "from sklearn.metrics import accuracy_score"
   ]
  },
  {
   "cell_type": "markdown",
   "id": "dd3f433e",
   "metadata": {},
   "source": [
    "## Load the data"
   ]
  },
  {
   "cell_type": "code",
   "execution_count": 2,
   "id": "68f18c28",
   "metadata": {},
   "outputs": [
    {
     "data": {
      "text/plain": [
       "'C:\\\\Users\\\\Sai Pavan Vulasi\\\\Documents\\\\GitHub\\\\Traffic-Sign-Recognition'"
      ]
     },
     "execution_count": 2,
     "metadata": {},
     "output_type": "execute_result"
    }
   ],
   "source": [
    "curr_dir = os.getcwd()\n",
    "curr_dir"
   ]
  },
  {
   "cell_type": "code",
   "execution_count": 3,
   "id": "bab02e5c",
   "metadata": {},
   "outputs": [],
   "source": [
    "data_dir = os.path.join(curr_dir,'Data')"
   ]
  },
  {
   "cell_type": "code",
   "execution_count": 4,
   "id": "4ffb31ff",
   "metadata": {},
   "outputs": [],
   "source": [
    "test_csv = pd.read_csv(data_dir+'/'+'Test.csv')"
   ]
  },
  {
   "cell_type": "code",
   "execution_count": 5,
   "id": "0406dc8d",
   "metadata": {},
   "outputs": [],
   "source": [
    "train_dir = os.path.join(data_dir,'Train')"
   ]
  },
  {
   "cell_type": "code",
   "execution_count": 6,
   "id": "622f7614",
   "metadata": {},
   "outputs": [],
   "source": [
    "test_dir = os.path.join(data_dir,'Test')"
   ]
  },
  {
   "cell_type": "code",
   "execution_count": 7,
   "id": "3cd15892",
   "metadata": {},
   "outputs": [],
   "source": [
    "#collect all the training images\n",
    "classIds = 43\n",
    "datalist = []\n",
    "labels = []\n",
    "for i in range(43):\n",
    "    folder = os.path.join(train_dir,str(i))\n",
    "    for image in os.listdir(folder):\n",
    "        image = load_img(folder+\"/\"+image)\n",
    "        image = image.resize((50,50)) # resizing all the images to same size\n",
    "        img = np.array(image)  #convert all images to arrays\n",
    "        datalist.append(img)\n",
    "        labels.append(i)\n",
    "data = np.array(datalist)\n",
    "labels = np.array(labels)\n",
    "        "
   ]
  },
  {
   "cell_type": "markdown",
   "id": "59b24f3b",
   "metadata": {},
   "source": [
    "## Training,Cross-validation and model tuning"
   ]
  },
  {
   "cell_type": "code",
   "execution_count": 8,
   "id": "bd97a035",
   "metadata": {},
   "outputs": [],
   "source": [
    "x_train,x_val,y_train,y_val = train_test_split(data,labels,test_size=0.2)"
   ]
  },
  {
   "cell_type": "code",
   "execution_count": 9,
   "id": "5c0a7c93",
   "metadata": {},
   "outputs": [
    {
     "data": {
      "text/plain": [
       "(31367, 50, 50, 3)"
      ]
     },
     "execution_count": 9,
     "metadata": {},
     "output_type": "execute_result"
    }
   ],
   "source": [
    "x_train.shape"
   ]
  },
  {
   "cell_type": "code",
   "execution_count": 10,
   "id": "ab42d5cd",
   "metadata": {},
   "outputs": [
    {
     "data": {
      "text/plain": [
       "(31367,)"
      ]
     },
     "execution_count": 10,
     "metadata": {},
     "output_type": "execute_result"
    }
   ],
   "source": [
    "y_train.shape"
   ]
  },
  {
   "cell_type": "code",
   "execution_count": 11,
   "id": "700bbadf",
   "metadata": {},
   "outputs": [
    {
     "data": {
      "text/plain": [
       "(7842, 50, 50, 3)"
      ]
     },
     "execution_count": 11,
     "metadata": {},
     "output_type": "execute_result"
    }
   ],
   "source": [
    "x_val.shape"
   ]
  },
  {
   "cell_type": "code",
   "execution_count": 12,
   "id": "7274619f",
   "metadata": {},
   "outputs": [
    {
     "data": {
      "text/plain": [
       "(7842,)"
      ]
     },
     "execution_count": 12,
     "metadata": {},
     "output_type": "execute_result"
    }
   ],
   "source": [
    "y_val.shape"
   ]
  },
  {
   "cell_type": "markdown",
   "id": "94b068ce",
   "metadata": {},
   "source": [
    "Since we are dealing with classification problem we have to perform one hot encoding on our labels. It is optional though instead of that we can just leave it and use appropriate loss function during compilation."
   ]
  },
  {
   "cell_type": "code",
   "execution_count": 13,
   "id": "56dd9918",
   "metadata": {},
   "outputs": [],
   "source": [
    "y_train = tf.one_hot(y_train,43)\n",
    "y_val = tf.one_hot(y_val,43)"
   ]
  },
  {
   "cell_type": "markdown",
   "id": "83b2da12",
   "metadata": {},
   "source": [
    "### Build the model"
   ]
  },
  {
   "cell_type": "code",
   "execution_count": 14,
   "id": "3b98e142",
   "metadata": {},
   "outputs": [],
   "source": [
    "model = tf.keras.Sequential()\n",
    "model.add(tf.keras.layers.Conv2D(16,(3,3),activation='relu',input_shape = (50,50,3),padding='same'))\n",
    "model.add(tf.keras.layers.MaxPooling2D((2,2)))\n",
    "\n",
    "model.add(tf.keras.layers.Conv2D(32,(3,3),padding='same',activation='relu'))\n",
    "model.add(tf.keras.layers.MaxPooling2D((2,2)))\n",
    "\n",
    "model.add(tf.keras.layers.Dropout(0.25))\n",
    "\n",
    "model.add(tf.keras.layers.Conv2D(64,(3,3),padding='same',activation='relu'))\n",
    "model.add(tf.keras.layers.MaxPooling2D((2,2)))\n",
    "\n",
    "model.add(tf.keras.layers.Conv2D(128,(3,3),padding='same',activation='relu'))\n",
    "model.add(tf.keras.layers.MaxPooling2D((2,2)))\n",
    "\n",
    "model.add(tf.keras.layers.Dropout(0.25))\n",
    "\n",
    "model.add(tf.keras.layers.Conv2D(128,(3,3),padding='same',activation='relu'))\n",
    "model.add(tf.keras.layers.MaxPooling2D((2,2)))\n",
    "\n",
    "model.add(tf.keras.layers.Flatten())\n",
    "\n",
    "model.add(tf.keras.layers.Dropout(0.25))\n",
    "\n",
    "model.add(tf.keras.layers.Dense(512,activation='relu'))\n",
    "model.add(tf.keras.layers.Dense(512,activation='relu'))\n",
    "\n",
    "model.add(tf.keras.layers.Dense(43,activation='softmax'))"
   ]
  },
  {
   "cell_type": "code",
   "execution_count": 15,
   "id": "fe47ae1b",
   "metadata": {},
   "outputs": [],
   "source": [
    "batch_size = 64\n",
    "epochs = 20"
   ]
  },
  {
   "cell_type": "markdown",
   "id": "fd64de71",
   "metadata": {},
   "source": [
    "### Compile the model"
   ]
  },
  {
   "cell_type": "code",
   "execution_count": 16,
   "id": "75fbc3f7",
   "metadata": {},
   "outputs": [],
   "source": [
    "model.compile(optimizer='adam',loss=\"categorical_crossentropy\",metrics=['accuracy'])"
   ]
  },
  {
   "cell_type": "code",
   "execution_count": 17,
   "id": "a4dc705a",
   "metadata": {},
   "outputs": [
    {
     "name": "stdout",
     "output_type": "stream",
     "text": [
      "Model: \"sequential\"\n",
      "_________________________________________________________________\n",
      " Layer (type)                Output Shape              Param #   \n",
      "=================================================================\n",
      " conv2d (Conv2D)             (None, 50, 50, 16)        448       \n",
      "                                                                 \n",
      " max_pooling2d (MaxPooling2D  (None, 25, 25, 16)       0         \n",
      " )                                                               \n",
      "                                                                 \n",
      " conv2d_1 (Conv2D)           (None, 25, 25, 32)        4640      \n",
      "                                                                 \n",
      " max_pooling2d_1 (MaxPooling  (None, 12, 12, 32)       0         \n",
      " 2D)                                                             \n",
      "                                                                 \n",
      " dropout (Dropout)           (None, 12, 12, 32)        0         \n",
      "                                                                 \n",
      " conv2d_2 (Conv2D)           (None, 12, 12, 64)        18496     \n",
      "                                                                 \n",
      " max_pooling2d_2 (MaxPooling  (None, 6, 6, 64)         0         \n",
      " 2D)                                                             \n",
      "                                                                 \n",
      " conv2d_3 (Conv2D)           (None, 6, 6, 128)         73856     \n",
      "                                                                 \n",
      " max_pooling2d_3 (MaxPooling  (None, 3, 3, 128)        0         \n",
      " 2D)                                                             \n",
      "                                                                 \n",
      " dropout_1 (Dropout)         (None, 3, 3, 128)         0         \n",
      "                                                                 \n",
      " conv2d_4 (Conv2D)           (None, 3, 3, 128)         147584    \n",
      "                                                                 \n",
      " max_pooling2d_4 (MaxPooling  (None, 1, 1, 128)        0         \n",
      " 2D)                                                             \n",
      "                                                                 \n",
      " flatten (Flatten)           (None, 128)               0         \n",
      "                                                                 \n",
      " dropout_2 (Dropout)         (None, 128)               0         \n",
      "                                                                 \n",
      " dense (Dense)               (None, 512)               66048     \n",
      "                                                                 \n",
      " dense_1 (Dense)             (None, 512)               262656    \n",
      "                                                                 \n",
      " dense_2 (Dense)             (None, 43)                22059     \n",
      "                                                                 \n",
      "=================================================================\n",
      "Total params: 595,787\n",
      "Trainable params: 595,787\n",
      "Non-trainable params: 0\n",
      "_________________________________________________________________\n"
     ]
    }
   ],
   "source": [
    "model.summary()"
   ]
  },
  {
   "cell_type": "code",
   "execution_count": 18,
   "id": "02661412",
   "metadata": {},
   "outputs": [
    {
     "name": "stdout",
     "output_type": "stream",
     "text": [
      "Epoch 1/20\n",
      "491/491 [==============================] - 6s 12ms/step - loss: 2.5501 - accuracy: 0.2721 - val_loss: 1.6184 - val_accuracy: 0.4540\n",
      "Epoch 2/20\n",
      "491/491 [==============================] - 5s 11ms/step - loss: 1.4968 - accuracy: 0.4970 - val_loss: 1.0491 - val_accuracy: 0.6521\n",
      "Epoch 3/20\n",
      "491/491 [==============================] - 5s 11ms/step - loss: 0.9546 - accuracy: 0.6807 - val_loss: 0.5866 - val_accuracy: 0.7851\n",
      "Epoch 4/20\n",
      "491/491 [==============================] - 5s 11ms/step - loss: 0.6560 - accuracy: 0.7805 - val_loss: 0.3475 - val_accuracy: 0.8720\n",
      "Epoch 5/20\n",
      "491/491 [==============================] - 5s 11ms/step - loss: 0.4960 - accuracy: 0.8344 - val_loss: 0.2258 - val_accuracy: 0.9202\n",
      "Epoch 6/20\n",
      "491/491 [==============================] - 5s 11ms/step - loss: 0.3838 - accuracy: 0.8751 - val_loss: 0.1780 - val_accuracy: 0.9417\n",
      "Epoch 7/20\n",
      "491/491 [==============================] - 5s 11ms/step - loss: 0.3426 - accuracy: 0.8918 - val_loss: 0.1205 - val_accuracy: 0.9614\n",
      "Epoch 8/20\n",
      "491/491 [==============================] - 5s 11ms/step - loss: 0.2805 - accuracy: 0.9116 - val_loss: 0.1215 - val_accuracy: 0.9648\n",
      "Epoch 9/20\n",
      "491/491 [==============================] - 5s 11ms/step - loss: 0.2542 - accuracy: 0.9233 - val_loss: 0.0932 - val_accuracy: 0.9700\n",
      "Epoch 10/20\n",
      "491/491 [==============================] - 5s 11ms/step - loss: 0.2165 - accuracy: 0.9341 - val_loss: 0.0821 - val_accuracy: 0.9739\n",
      "Epoch 11/20\n",
      "491/491 [==============================] - 5s 11ms/step - loss: 0.2135 - accuracy: 0.9371 - val_loss: 0.0575 - val_accuracy: 0.9839\n",
      "Epoch 12/20\n",
      "491/491 [==============================] - 5s 11ms/step - loss: 0.2032 - accuracy: 0.9417 - val_loss: 0.0736 - val_accuracy: 0.9782\n",
      "Epoch 13/20\n",
      "491/491 [==============================] - 5s 11ms/step - loss: 0.1877 - accuracy: 0.9467 - val_loss: 0.0505 - val_accuracy: 0.9842\n",
      "Epoch 14/20\n",
      "491/491 [==============================] - 5s 11ms/step - loss: 0.1786 - accuracy: 0.9502 - val_loss: 0.0740 - val_accuracy: 0.9784\n",
      "Epoch 15/20\n",
      "491/491 [==============================] - 5s 11ms/step - loss: 0.1707 - accuracy: 0.9529 - val_loss: 0.0660 - val_accuracy: 0.9816\n",
      "Epoch 16/20\n",
      "491/491 [==============================] - 5s 11ms/step - loss: 0.1557 - accuracy: 0.9569 - val_loss: 0.0731 - val_accuracy: 0.9795\n",
      "Epoch 17/20\n",
      "491/491 [==============================] - 5s 11ms/step - loss: 0.1592 - accuracy: 0.9556 - val_loss: 0.0406 - val_accuracy: 0.9875\n",
      "Epoch 18/20\n",
      "491/491 [==============================] - 5s 11ms/step - loss: 0.1545 - accuracy: 0.9566 - val_loss: 0.0486 - val_accuracy: 0.9851\n",
      "Epoch 19/20\n",
      "491/491 [==============================] - 5s 11ms/step - loss: 0.1481 - accuracy: 0.9583 - val_loss: 0.0568 - val_accuracy: 0.9857\n",
      "Epoch 20/20\n",
      "491/491 [==============================] - 5s 11ms/step - loss: 0.1636 - accuracy: 0.9558 - val_loss: 0.0432 - val_accuracy: 0.9899\n"
     ]
    }
   ],
   "source": [
    "history = model.fit(x_train,y_train,\n",
    "                   epochs=epochs,batch_size=batch_size,validation_data=(x_val,y_val))"
   ]
  },
  {
   "cell_type": "code",
   "execution_count": 19,
   "id": "cbf733d7",
   "metadata": {},
   "outputs": [],
   "source": [
    "loss= history.history['loss']\n",
    "train_acc = history.history['accuracy']\n",
    "\n",
    "val_loss = history.history['val_loss']\n",
    "val_acc = history.history['val_accuracy']"
   ]
  },
  {
   "cell_type": "code",
   "execution_count": 20,
   "id": "a15f6e31",
   "metadata": {},
   "outputs": [
    {
     "data": {
      "image/png": "[encoded data removed]",
      "text/plain": [
       "<Figure size 1008x720 with 1 Axes>"
      ]
     },
     "metadata": {
      "needs_background": "light"
     },
     "output_type": "display_data"
    }
   ],
   "source": [
    "plt.figure(figsize=(14,10))\n",
    "iterations = range(epochs)\n",
    "plt.plot(iterations,loss,label='Training_loss',color='red')\n",
    "plt.plot(iterations,val_loss,label='validation_loss',color='blue')\n",
    "plt.xlabel('no of iterations')\n",
    "plt.ylabel('loss')\n",
    "plt.title('Loss vs No of iterations')\n",
    "plt.legend()\n",
    "plt.show()"
   ]
  },
  {
   "cell_type": "markdown",
   "id": "70105543",
   "metadata": {},
   "source": [
    "- Observations:\n",
    "    - Train accuracy and validation accuracy remains almost same after 10 epochs. so it's probably better to keep epochs to 10.\n",
    "    - Model seems to perform very well on both training and validation sets"
   ]
  },
  {
   "cell_type": "markdown",
   "id": "4da3e935",
   "metadata": {},
   "source": [
    "## Predictions"
   ]
  },
  {
   "cell_type": "markdown",
   "id": "4f08a4ff",
   "metadata": {},
   "source": [
    "Before we make predictions we have to collect our test images from test folder in our base directory. Then we will test our model on this set to see how well it generalizes."
   ]
  },
  {
   "cell_type": "code",
   "execution_count": 21,
   "id": "c6e5bb19",
   "metadata": {},
   "outputs": [
    {
     "data": {
      "text/html": [
       "<div>\n",
       "<style scoped>\n",
       "    .dataframe tbody tr th:only-of-type {\n",
       "        vertical-align: middle;\n",
       "    }\n",
       "\n",
       "    .dataframe tbody tr th {\n",
       "        vertical-align: top;\n",
       "    }\n",
       "\n",
       "    .dataframe thead th {\n",
       "        text-align: right;\n",
       "    }\n",
       "</style>\n",
       "<table border=\"1\" class=\"dataframe\">\n",
       "  <thead>\n",
       "    <tr style=\"text-align: right;\">\n",
       "      <th></th>\n",
       "      <th>Width</th>\n",
       "      <th>Height</th>\n",
       "      <th>Roi.X1</th>\n",
       "      <th>Roi.Y1</th>\n",
       "      <th>Roi.X2</th>\n",
       "      <th>Roi.Y2</th>\n",
       "      <th>ClassId</th>\n",
       "      <th>Path</th>\n",
       "    </tr>\n",
       "  </thead>\n",
       "  <tbody>\n",
       "    <tr>\n",
       "      <th>0</th>\n",
       "      <td>53</td>\n",
       "      <td>54</td>\n",
       "      <td>6</td>\n",
       "      <td>5</td>\n",
       "      <td>48</td>\n",
       "      <td>49</td>\n",
       "      <td>16</td>\n",
       "      <td>Test/00000.png</td>\n",
       "    </tr>\n",
       "    <tr>\n",
       "      <th>1</th>\n",
       "      <td>42</td>\n",
       "      <td>45</td>\n",
       "      <td>5</td>\n",
       "      <td>5</td>\n",
       "      <td>36</td>\n",
       "      <td>40</td>\n",
       "      <td>1</td>\n",
       "      <td>Test/00001.png</td>\n",
       "    </tr>\n",
       "    <tr>\n",
       "      <th>2</th>\n",
       "      <td>48</td>\n",
       "      <td>52</td>\n",
       "      <td>6</td>\n",
       "      <td>6</td>\n",
       "      <td>43</td>\n",
       "      <td>47</td>\n",
       "      <td>38</td>\n",
       "      <td>Test/00002.png</td>\n",
       "    </tr>\n",
       "    <tr>\n",
       "      <th>3</th>\n",
       "      <td>27</td>\n",
       "      <td>29</td>\n",
       "      <td>5</td>\n",
       "      <td>5</td>\n",
       "      <td>22</td>\n",
       "      <td>24</td>\n",
       "      <td>33</td>\n",
       "      <td>Test/00003.png</td>\n",
       "    </tr>\n",
       "    <tr>\n",
       "      <th>4</th>\n",
       "      <td>60</td>\n",
       "      <td>57</td>\n",
       "      <td>5</td>\n",
       "      <td>5</td>\n",
       "      <td>55</td>\n",
       "      <td>52</td>\n",
       "      <td>11</td>\n",
       "      <td>Test/00004.png</td>\n",
       "    </tr>\n",
       "  </tbody>\n",
       "</table>\n",
       "</div>"
      ],
      "text/plain": [
       "   Width  Height  Roi.X1  Roi.Y1  Roi.X2  Roi.Y2  ClassId            Path\n",
       "0     53      54       6       5      48      49       16  Test/00000.png\n",
       "1     42      45       5       5      36      40        1  Test/00001.png\n",
       "2     48      52       6       6      43      47       38  Test/00002.png\n",
       "3     27      29       5       5      22      24       33  Test/00003.png\n",
       "4     60      57       5       5      55      52       11  Test/00004.png"
      ]
     },
     "execution_count": 21,
     "metadata": {},
     "output_type": "execute_result"
    }
   ],
   "source": [
    "test_csv.head()"
   ]
  },
  {
   "cell_type": "code",
   "execution_count": 22,
   "id": "8763695b",
   "metadata": {},
   "outputs": [],
   "source": [
    "test_labels = test_csv['ClassId'].values"
   ]
  },
  {
   "cell_type": "code",
   "execution_count": 23,
   "id": "024287bf",
   "metadata": {},
   "outputs": [],
   "source": [
    "image_paths = test_csv['Path'].values\n",
    "test_images = []\n",
    "\n",
    "for img_path in image_paths:\n",
    "    image = load_img(data_dir+'/'+img_path)\n",
    "    image = image.resize((50,50))\n",
    "    img = np.array(image)\n",
    "    test_images.append(img)\n",
    "\n",
    "test_images = np.array(test_images)"
   ]
  },
  {
   "cell_type": "code",
   "execution_count": 24,
   "id": "4707c317",
   "metadata": {},
   "outputs": [
    {
     "name": "stdout",
     "output_type": "stream",
     "text": [
      "395/395 [==============================] - 1s 3ms/step\n"
     ]
    }
   ],
   "source": [
    "predictions = model.predict(test_images)"
   ]
  },
  {
   "cell_type": "code",
   "execution_count": 25,
   "id": "0e4e53e0",
   "metadata": {},
   "outputs": [
    {
     "data": {
      "text/plain": [
       "12630"
      ]
     },
     "execution_count": 25,
     "metadata": {},
     "output_type": "execute_result"
    }
   ],
   "source": [
    "len(predictions)"
   ]
  },
  {
   "cell_type": "code",
   "execution_count": 26,
   "id": "1d81421c",
   "metadata": {},
   "outputs": [],
   "source": [
    "pred_labels = []\n",
    "\n",
    "for i,arr in enumerate(predictions):\n",
    "    y_pred = np.argmax(arr)\n",
    "    pred_labels.append(y_pred)\n"
   ]
  },
  {
   "cell_type": "code",
   "execution_count": 27,
   "id": "e683464f",
   "metadata": {},
   "outputs": [],
   "source": [
    "pred_labels = np.array(pred_labels)"
   ]
  },
  {
   "cell_type": "code",
   "execution_count": 28,
   "id": "bbad6a8f",
   "metadata": {},
   "outputs": [
    {
     "name": "stdout",
     "output_type": "stream",
     "text": [
      "Accuracy:  0.9587490102929533\n"
     ]
    }
   ],
   "source": [
    "print('Accuracy: ',accuracy_score(test_labels,pred_labels))"
   ]
  },
  {
   "cell_type": "code",
   "execution_count": null,
   "id": "c702dddc",
   "metadata": {},
   "outputs": [],
   "source": []
  }
 ],
 "metadata": {
  "kernelspec": {
   "display_name": "Python 3 (ipykernel)",
   "language": "python",
   "name": "python3"
  },
  "language_info": {
   "codemirror_mode": {
    "name": "ipython",
    "version": 3
   },
   "file_extension": ".py",
   "mimetype": "text/x-python",
   "name": "python",
   "nbconvert_exporter": "python",
   "pygments_lexer": "ipython3",
   "version": "3.9.12"
  }
 },
 "nbformat": 4,
 "nbformat_minor": 5
}
